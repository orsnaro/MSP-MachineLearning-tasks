{
 "cells": [
  {
   "cell_type": "markdown",
   "metadata": {},
   "source": [
    "# <span style = \"color:red\"><center><strong>OS Library🐍</strong></center> </span>\n"
   ]
  },
  {
   "cell_type": "markdown",
   "metadata": {
    "slideshow": {
     "slide_type": "slide"
    }
   },
   "source": [
    "<u><strong>Main Topics :</strong></u>\n",
    "\n",
    "1. Introduction to Presentaion topic\n",
    "\n",
    "2. Into Python OS Library !\n",
    "\n",
    "3. Summary + Mini-proj\n",
    "\n",
    "\n"
   ]
  },
  {
   "cell_type": "markdown",
   "metadata": {},
   "source": [
    "\n",
    "# ![title](python_vs_almost_any_shell_scripting_language.jpg)"
   ]
  },
  {
   "cell_type": "markdown",
   "metadata": {},
   "source": [
    " <span style = \" color: green\"><u><strong>in a nutshell Shell:</strong></u>\n",
    "  scripting languages could be  way Faster in performance.  but more complicated with larger number of tasks <u>than</u> python and high level programming langs. </span>\n",
    "\n",
    "\n",
    "<hr class=\"rounded\">\n"
   ]
  },
  {
   "cell_type": "markdown",
   "metadata": {
    "slideshow": {
     "slide_type": "notes"
    }
   },
   "source": [
    "## <center> 2. Into Python OS Library ! </center>\n"
   ]
  },
  {
   "cell_type": "markdown",
   "metadata": {},
   "source": [
    "<u>list of usefull functions/classes in the library :</u>\n",
    "os.name\n",
    "\n",
    "os.getcwd()\n",
    "\n",
    "os.chdir()\n",
    "\n",
    "os.listdir()\n",
    "\n",
    "os.mkdir() / os.mkdirs\n",
    "\n",
    "os.remove() <span style = \" color: green\">#rm only files not dirs</span>\n",
    "\n",
    "os.rmdir() \n",
    "\n",
    "<span style = \" color: green\"># how about the non empty Dirs? two other ways! using shutil lib or...</span>\n",
    "\n",
    "os.walk() <span style = \" color: green\">#used in for loop with 3 parameters path , dirname , filename \n",
    "</span>\n",
    "\n",
    "os.rename()\n",
    "\n",
    "os.path\n",
    "\n",
    "os.kill()\n",
    "\n",
    "\n",
    "\n"
   ]
  },
  {
   "cell_type": "code",
   "execution_count": 10,
   "metadata": {},
   "outputs": [
    {
     "name": "stdout",
     "output_type": "stream",
     "text": [
      "25\n"
     ]
    },
    {
     "data": {
      "text/plain": [
       "['draft+sources.txt',\n",
       " 'on cmd and dos.png',\n",
       " 'prac_OS.py',\n",
       " 'presentation_notes.ipynb',\n",
       " 'python_vs_almost_any_shell_scripting_language.jpg',\n",
       " 'tempCodeRunnerFile.py',\n",
       " 'testforshell']"
      ]
     },
     "execution_count": 10,
     "metadata": {},
     "output_type": "execute_result"
    }
   ],
   "source": [
    "from inspect import getmembers , isfunction #not in our scope\n",
    "import os \n",
    "\n",
    "print ( len(getmembers(os,isfunction)))\n",
    "var = os.name\n",
    "os.listdir()\n"
   ]
  },
  {
   "cell_type": "markdown",
   "metadata": {},
   "source": [
    "## <center> 3. Summary</center>\n"
   ]
  },
  {
   "cell_type": "markdown",
   "metadata": {},
   "source": [
    "<hr class=\"rounded\">\n",
    "<u><strong>SOURCES:</strong></u>\n",
    "\n",
    " <u>terminal basics:</u> \n",
    " \n",
    "https://www.youtube.com/playlist?list=PLDoPjvoNmBAxzNO8ixW83Sf8FnLy_MkUT\n",
    "\n",
    "https://ss64.com/\n",
    "\n",
    "<u> for Python os library:</u>\n",
    "\n",
    "https://www.geeksforgeeks.org/os-module-python-examples/\n",
    "\n",
    "https://docs.python.org/3/library/os.html\n",
    "\n",
    "\n",
    "t . c 💙\n",
    "\n",
    "\n"
   ]
  },
  {
   "cell_type": "markdown",
   "metadata": {
    "tags": []
   },
   "source": [
    "<span style = \" color : #A52A2A\"><u>✍️Prepared By</u> : Omar Rashad Salem</span>\n",
    "\n"
   ]
  }
 ],
 "metadata": {
  "kernelspec": {
   "display_name": "Python 3.10.8 64-bit (microsoft store)",
   "language": "python",
   "name": "python3"
  },
  "language_info": {
   "codemirror_mode": {
    "name": "ipython",
    "version": 3
   },
   "file_extension": ".py",
   "mimetype": "text/x-python",
   "name": "python",
   "nbconvert_exporter": "python",
   "pygments_lexer": "ipython3",
   "version": "3.10.8"
  },
  "orig_nbformat": 4,
  "vscode": {
   "interpreter": {
    "hash": "e2c4c84b7cbfc1f2f53a68dcfadacf80dd1138793774f9f90876db06a367aefd"
   }
  }
 },
 "nbformat": 4,
 "nbformat_minor": 2
}
