{
 "cells": [
  {
   "cell_type": "markdown",
   "metadata": {},
   "source": [
    "# <span style = \"color:red\"><center>OS Library🐍</center> </span>\n"
   ]
  },
  {
   "cell_type": "markdown",
   "metadata": {},
   "source": [
    "<u><strong>Main Topics :</strong></u>\n",
    "\n",
    "1. Introduction to Presentaion topic\n",
    "\n",
    "2. Into Python OS Library !\n",
    "\n",
    "3. Summary + Mini-proj"
   ]
  },
  {
   "cell_type": "markdown",
   "metadata": {},
   "source": [
    "<hr class=\"rounded\">"
   ]
  },
  {
   "cell_type": "markdown",
   "metadata": {},
   "source": [
    "# ![title](python_vs_almost_any_shell_scripting_language.jpg)"
   ]
  },
  {
   "cell_type": "markdown",
   "metadata": {},
   "source": [
    " <span style = \" color: green\"><u><strong>in a nutshell Shell:</strong></u>\n",
    "  scripting languages could be  way Faster in performance.  but more complicated with larger number of tasks <u>than</u> python nad high level programming langs. </span>"
   ]
  },
  {
   "cell_type": "markdown",
   "metadata": {},
   "source": [
    "<hr class=\"rounded\">\n",
    "<u><strong>SOURCES:</strong></u>\n",
    "\n",
    " <u>terminal basics:</u> \n",
    " \n",
    "https://www.youtube.com/playlist?list=PLDoPjvoNmBAxzNO8ixW83Sf8FnLy_MkUT\n",
    "\n",
    "<u> for Python os library:</u>\n",
    "\n",
    "https://www.geeksforgeeks.org/os-module-python-examples/\n",
    "\n",
    "https://docs.python.org/3/library/os.html\n",
    "\n",
    "\n",
    "tc 💙\n",
    "\n",
    "\n"
   ]
  },
  {
   "cell_type": "markdown",
   "metadata": {
    "tags": []
   },
   "source": [
    "<span style = \" color : #A52A2A\"><u>✍️Prepared By</u> : Omar Rashad Salem</span>\n",
    "\n"
   ]
  }
 ],
 "metadata": {
  "kernelspec": {
   "display_name": "Python 3.10.8 64-bit (microsoft store)",
   "language": "python",
   "name": "python3"
  },
  "language_info": {
   "codemirror_mode": {
    "name": "ipython",
    "version": 3
   },
   "file_extension": ".py",
   "mimetype": "text/x-python",
   "name": "python",
   "nbconvert_exporter": "python",
   "pygments_lexer": "ipython3",
   "version": "3.10.8"
  },
  "orig_nbformat": 4,
  "vscode": {
   "interpreter": {
    "hash": "e2c4c84b7cbfc1f2f53a68dcfadacf80dd1138793774f9f90876db06a367aefd"
   }
  }
 },
 "nbformat": 4,
 "nbformat_minor": 2
}
