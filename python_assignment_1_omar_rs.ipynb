{
 "cells": [
  {
   "cell_type": "markdown",
   "metadata": {},
   "source": [
    "Without using any string methods, try to print the following:\n",
    "\n",
    "( 123...n ) as string without spaces, whare n is a given input."
   ]
  },
  {
   "cell_type": "code",
   "execution_count": 10,
   "metadata": {},
   "outputs": [
    {
     "name": "stdout",
     "output_type": "stream",
     "text": [
      "12345"
     ]
    }
   ],
   "source": [
    "n = int(input())\n",
    "for i in range (1 , n + 1) :\n",
    "    print(f\"{i}\",end='')"
   ]
  },
  {
   "cell_type": "markdown",
   "metadata": {},
   "source": [
    "Check if element exists in list in Python\n",
    "\n",
    "list = test_list = [1, 6, 3, 5, 3, 4]\n",
    "\n",
    "Input: 3  # Check if 3 exist or not.\n",
    "\n",
    "Output: True"
   ]
  },
  {
   "cell_type": "code",
   "execution_count": 11,
   "metadata": {},
   "outputs": [
    {
     "name": "stdout",
     "output_type": "stream",
     "text": [
      "True\n"
     ]
    }
   ],
   "source": [
    "lst = [1,6,3,5,3,4]\n",
    "n = int(input())\n",
    "print(n in lst) #not the best for readability"
   ]
  },
  {
   "cell_type": "markdown",
   "metadata": {},
   "source": [
    "Given a list, write a Python program to swap first and last element of the list.\n",
    "\n",
    "Examples: \n",
    "\n",
    "Input : [12, 35, 9, 56, 24]\n",
    "\n",
    "Output : [24, 35, 9, 56, 12]\n",
    "\n",
    "Input : [1, 2, 3]\n",
    "\n",
    "Output : [3, 2, 1]"
   ]
  },
  {
   "cell_type": "code",
   "execution_count": 13,
   "metadata": {},
   "outputs": [
    {
     "name": "stdout",
     "output_type": "stream",
     "text": [
      "[24, 35, 9, 56, 12]\n"
     ]
    }
   ],
   "source": [
    "lst = [12,35,9,56,24] #user can input it i'll  work\n",
    "lst[0] ,lst[len(lst) - 1] = lst[len(lst) - 1], lst[0] \n",
    "print (lst)"
   ]
  },
  {
   "cell_type": "markdown",
   "metadata": {},
   "source": [
    "Read a list from user and print it after that rverse the list.\n",
    "\n",
    "Example:\n",
    "\n",
    "Input : list = [4, 5, 6, 7, 8, 9]\n",
    "\n",
    "Output : [9, 8, 7, 6, 5, 4]"
   ]
  },
  {
   "cell_type": "code",
   "execution_count": 26,
   "metadata": {},
   "outputs": [
    {
     "name": "stdout",
     "output_type": "stream",
     "text": [
      "[4, 3, 2, 1]\n"
     ]
    }
   ],
   "source": [
    "lst = [int(x) for x in input().split()]\n",
    "lst.reverse()\n",
    "print(lst)"
   ]
  },
  {
   "cell_type": "markdown",
   "metadata": {},
   "source": [
    "We are given a string and we need to reverse words of a given string\n",
    "\n",
    "Examples:\n",
    "\n",
    "Input : str =\" geeks quiz practice code\"\n",
    "\n",
    "Output : str = code practice quiz geeks "
   ]
  },
  {
   "cell_type": "code",
   "execution_count": 29,
   "metadata": {},
   "outputs": [
    {
     "name": "stdout",
     "output_type": "stream",
     "text": [
      "omar is name my\n"
     ]
    }
   ],
   "source": [
    "lst = [x for x in input().split()]\n",
    "lst.reverse()\n",
    "print(*lst)"
   ]
  },
  {
   "cell_type": "markdown",
   "metadata": {},
   "source": [
    "Given a string, the task is to check if every vowel is present or not. We consider a vowel to be present if it is present in upper case or lower case. i.e. ‘a’, ‘e’, ‘i’.’o’, ‘u’ or ‘A’, ‘E’, ‘I’, ‘O’, ‘U’ . \n",
    "\n",
    "Examples : \n",
    "\n",
    "Input : geeksforgeeks\n",
    "\n",
    "Output : Not Accepted\n",
    "\n",
    "    All vowels except 'a','i','u' are not present\n",
    "\n",
    "\n",
    "Input : ABeeIghiObhkUul\n",
    "\n",
    "Output : Accepted\n",
    "\n",
    "    All vowels are present"
   ]
  },
  {
   "cell_type": "code",
   "execution_count": 52,
   "metadata": {},
   "outputs": [
    {
     "name": "stdout",
     "output_type": "stream",
     "text": [
      "Accepted\n"
     ]
    }
   ],
   "source": [
    "strst , vowel = set(input().lower()) , {'u','a','e','i','o'}\n",
    "common = strst.intersection(vowel)\n",
    "print(\"Accepted\") if len(common) is len(vowel) else print(\"Not Accepted\")"
   ]
  },
  {
   "cell_type": "markdown",
   "metadata": {},
   "source": [
    "Factorial of a non-negative integer, is multiplication of all integers smaller than or equal to n. For example factorial of 6 is 6*5*4*3*2*1 which is 720.\n",
    "\n",
    "We are given n to calculate its factorial."
   ]
  },
  {
   "cell_type": "code",
   "execution_count": 50,
   "metadata": {},
   "outputs": [
    {
     "name": "stdout",
     "output_type": "stream",
     "text": [
      "720\n"
     ]
    }
   ],
   "source": [
    "n , fact = int(input()) , 1\n",
    "for i in range(1,n + 1) :  fact *= i\n",
    "print (fact)"
   ]
  },
  {
   "cell_type": "markdown",
   "metadata": {},
   "source": [
    "Given a character, we need to print its ASCII value\n",
    "\n",
    "Examples :\n",
    "\n",
    "Input : a \n",
    "\n",
    "Output : 97\n",
    "\n",
    "Input : D\n",
    "\n",
    "Output : 68\n",
    "\n",
    "    NOTE: search about the ord() method to can solve these problem."
   ]
  },
  {
   "cell_type": "code",
   "execution_count": 32,
   "metadata": {},
   "outputs": [
    {
     "name": "stdout",
     "output_type": "stream",
     "text": [
      "97\n"
     ]
    }
   ],
   "source": [
    "char_ascii = ord(input())\n",
    "print(char_ascii)"
   ]
  },
  {
   "cell_type": "markdown",
   "metadata": {},
   "source": [
    "Given a positive integer N. The task is to find square summation : 1^2 + 2^2 + 3^2 + ….. + N^2.\n",
    "\n",
    "Examples:\n",
    "\n",
    "Input : N = 4\n",
    "\n",
    "Output : 30"
   ]
  },
  {
   "cell_type": "code",
   "execution_count": 2,
   "metadata": {},
   "outputs": [
    {
     "name": "stdout",
     "output_type": "stream",
     "text": [
      "30\n"
     ]
    }
   ],
   "source": [
    "n , sum = int(input()) , 0 #coach edited it\n",
    "for i  in range(1 , n + 1) : sum += i ** 2\n",
    "print (sum)"
   ]
  },
  {
   "cell_type": "markdown",
   "metadata": {},
   "source": [
    "Given the participants' score sheet for your University Sports Day, you are required to find the runner-up score. You are given n scores. Store them in a list and find the score of the runner-up.\n",
    "\n",
    "Example:\n",
    "\n",
    "Input:\n",
    "\n",
    "    6\n",
    "    2 4 5 6 1 6\n",
    "\n",
    "Output:\n",
    "\n",
    "    5"
   ]
  },
  {
   "cell_type": "code",
   "execution_count": 40,
   "metadata": {},
   "outputs": [
    {
     "name": "stdout",
     "output_type": "stream",
     "text": [
      "5\n"
     ]
    }
   ],
   "source": [
    "input() #no need for this line so still 3 lines :D\n",
    "st = set([int(x) for x in input().split()])\n",
    "lst = sorted(list(st),reverse = True)\n",
    "print(lst[1])"
   ]
  }
 ],
 "metadata": {
  "kernelspec": {
   "display_name": "Python 3.10.8 64-bit (microsoft store)",
   "language": "python",
   "name": "python3"
  },
  "language_info": {
   "codemirror_mode": {
    "name": "ipython",
    "version": 3
   },
   "file_extension": ".py",
   "mimetype": "text/x-python",
   "name": "python",
   "nbconvert_exporter": "python",
   "pygments_lexer": "ipython3",
   "version": "3.10.8"
  },
  "orig_nbformat": 4,
  "vscode": {
   "interpreter": {
    "hash": "e2c4c84b7cbfc1f2f53a68dcfadacf80dd1138793774f9f90876db06a367aefd"
   }
  }
 },
 "nbformat": 4,
 "nbformat_minor": 2
}
