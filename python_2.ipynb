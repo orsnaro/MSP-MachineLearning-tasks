{
 "cells": [
  {
   "cell_type": "markdown",
   "metadata": {},
   "source": [
    "## Python Cont."
   ]
  },
  {
   "cell_type": "markdown",
   "metadata": {},
   "source": [
    "### Strings"
   ]
  },
  {
   "cell_type": "code",
   "execution_count": 41,
   "metadata": {},
   "outputs": [
    {
     "name": "stdout",
     "output_type": "stream",
     "text": [
      "this is a string\n"
     ]
    }
   ],
   "source": [
    "# string be between '', or \"\", or'''  ''', or \"\"\" \"\"\"\n",
    "str = 'this is a string'\n",
    "print(str)"
   ]
  },
  {
   "cell_type": "code",
   "execution_count": 42,
   "metadata": {},
   "outputs": [
    {
     "name": "stdout",
     "output_type": "stream",
     "text": [
      "Lorem ipsum dolor sit amet,consectetur adipiscing elit,sed do eiusmod tempor incididuntut labore et dolore magna aliqua.\n"
     ]
    }
   ],
   "source": [
    "# multiline strings\n",
    "mlstr = 'Lorem ipsum dolor sit amet,\\\n",
    "consectetur adipiscing elit,\\\n",
    "sed do eiusmod tempor incididunt\\\n",
    "ut labore et dolore magna aliqua.'\n",
    "\n",
    "print(mlstr)"
   ]
  },
  {
   "cell_type": "code",
   "execution_count": 43,
   "metadata": {},
   "outputs": [
    {
     "name": "stdout",
     "output_type": "stream",
     "text": [
      "Lorem ipsum dolor sit amet,\n",
      "consectetur adipiscing elit,\n",
      "sed do eiusmod tempor incididunt\n",
      "ut labore et dolore magna aliqua.\n"
     ]
    }
   ],
   "source": [
    "mlstr = '''Lorem ipsum dolor sit amet,\n",
    "consectetur adipiscing elit,\n",
    "sed do eiusmod tempor incididunt\n",
    "ut labore et dolore magna aliqua.'''\n",
    "print(mlstr)"
   ]
  },
  {
   "cell_type": "markdown",
   "metadata": {},
   "source": [
    "### Clicing"
   ]
  },
  {
   "cell_type": "code",
   "execution_count": 44,
   "metadata": {},
   "outputs": [
    {
     "name": "stdout",
     "output_type": "stream",
     "text": [
      "h\n",
      "this\n",
      "this\n",
      "python\n",
      "this is a string in python\n",
      "pytho\n"
     ]
    }
   ],
   "source": [
    "# Like many other popular programming languages, strings in Python are arrays of bytes representing unicode characters.\n",
    "# However, Python does not have a character data type, a single character is simply a string with a length of 1.\n",
    "# To do clicing from a string use square prackets.\n",
    "\n",
    "str = 'this is a string in python'\n",
    "print(str[1])\n",
    "print(str[0:4])\n",
    "print(str[:4])\n",
    "print(str[20:])\n",
    "print(str[:])\n",
    "print(str[-6:-1])"
   ]
  },
  {
   "cell_type": "code",
   "execution_count": 51,
   "metadata": {},
   "outputs": [
    {
     "name": "stdout",
     "output_type": "stream",
     "text": [
      "15\n",
      "  hello python   \n",
      "hello python\n",
      "HELLO PYTHON\n",
      "hello python\n",
      "['hello', 'python']\n",
      "True\n",
      "True\n",
      "6\n",
      "-1\n"
     ]
    },
    {
     "data": {
      "text/plain": [
       "'hello python'"
      ]
     },
     "execution_count": 51,
     "metadata": {},
     "output_type": "execute_result"
    }
   ],
   "source": [
    "# string methods\n",
    "\n",
    "# len() eturn the lenghth of the string\n",
    "str = 'hello in python'\n",
    "print(len(str))\n",
    "\n",
    "\n",
    "# strip() delete the spaces from text from the start and the end\n",
    "str = '  hello python   '\n",
    "print(str)\n",
    "print(str.strip(' '))#'hello python'\n",
    "\n",
    "\n",
    "# upper() make all chars upper \n",
    "str = 'hello python'\n",
    "print(str.upper())#'HELLO PYTHON'\n",
    "\n",
    "\n",
    "# lower() make all chars lower\n",
    "str = 'Hello Python'\n",
    "print(str.lower())\n",
    "\n",
    "\n",
    "# split() split the text and return it as list depend on a special char\n",
    "str = 'hello python'\n",
    "strlst = str.split(' ')\n",
    "print(strlst)\n",
    "\n",
    "\n",
    "# startswith() return true if the text starts with the determined string\n",
    "str = 'hello python'\n",
    "print(str.startswith('he'))\n",
    "\n",
    "\n",
    "# endswith() return true if the text ends with the determined string\n",
    "str = 'hello python'\n",
    "print(str.endswith('on'))\n",
    "\n",
    "\n",
    "# index() return the index of the determined char if not found return error\n",
    "str = 'hello python'\n",
    "print(str.index('p'))\n",
    "\n",
    "\n",
    "# find() return the index of the determined char  if not found return -1\n",
    "str = 'hello python'\n",
    "print(str.find('w'))\n",
    "\n",
    "\n",
    "# join()return an iterable as string \n",
    "' '.join(strlst)\n",
    "\n",
    "# Python String Method:\n",
    "# https://www.w3schools.com/python/python_ref_string.asp"
   ]
  },
  {
   "cell_type": "markdown",
   "metadata": {},
   "source": [
    "## List"
   ]
  },
  {
   "cell_type": "code",
   "execution_count": 52,
   "metadata": {},
   "outputs": [
    {
     "name": "stdout",
     "output_type": "stream",
     "text": [
      "[1, 3, 5, 6, 0]\n"
     ]
    }
   ],
   "source": [
    "# crerate list\n",
    "lst = [1, 3, 5, 6, 0]\n",
    "print(lst)"
   ]
  },
  {
   "cell_type": "code",
   "execution_count": 58,
   "metadata": {},
   "outputs": [
    {
     "name": "stdout",
     "output_type": "stream",
     "text": [
      "[2, 4.4, 'blabla']\n"
     ]
    }
   ],
   "source": [
    "#  list can comtain more than data type\n",
    "\n",
    "lst = [2, 4.4, 'blabla']\n",
    "print(lst)"
   ]
  },
  {
   "cell_type": "code",
   "execution_count": 54,
   "metadata": {},
   "outputs": [
    {
     "name": "stdout",
     "output_type": "stream",
     "text": [
      "2\n",
      "[2, 4.4, 'blabla']\n"
     ]
    }
   ],
   "source": [
    "# Clicing and access elements in list is similar to string\n",
    "print(lst[0])\n",
    "print(lst[:3])"
   ]
  },
  {
   "cell_type": "code",
   "execution_count": 55,
   "metadata": {},
   "outputs": [
    {
     "name": "stdout",
     "output_type": "stream",
     "text": [
      "[2, 4.4, 'blabla', 'python', True]\n"
     ]
    }
   ],
   "source": [
    "# list is changable that mean change its value, add new values, and delete values from\n",
    "\n",
    "# append()method help us in addig new values to the list\n",
    "lst.append('python')\n",
    "lst.append(True)\n",
    "print(lst)"
   ]
  },
  {
   "cell_type": "code",
   "execution_count": 56,
   "metadata": {},
   "outputs": [
    {
     "name": "stdout",
     "output_type": "stream",
     "text": [
      "[4.4, 'blabla', 'python', True]\n",
      "['blabla', 'python', True]\n"
     ]
    }
   ],
   "source": [
    "# remove()method is used to delet a determined item from the list\n",
    "lst.remove(2)\n",
    "print(lst)\n",
    "\n",
    "# pop() is used to delete a specfic index from the list\n",
    "lst.pop(0)\n",
    "print(lst)"
   ]
  },
  {
   "cell_type": "code",
   "execution_count": 57,
   "metadata": {},
   "outputs": [
    {
     "name": "stdout",
     "output_type": "stream",
     "text": [
      "[]\n"
     ]
    }
   ],
   "source": [
    "#  clear() method is used to clear all items from the list\n",
    "lst.clear()\n",
    "print(lst)"
   ]
  },
  {
   "cell_type": "code",
   "execution_count": 60,
   "metadata": {},
   "outputs": [
    {
     "ename": "NameError",
     "evalue": "name 'lst' is not defined",
     "output_type": "error",
     "traceback": [
      "\u001b[1;31m---------------------------------------------------------------------------\u001b[0m",
      "\u001b[1;31mNameError\u001b[0m                                 Traceback (most recent call last)",
      "\u001b[1;32md:\\MSP\\python_2.ipynb Cell 16\u001b[0m in \u001b[0;36m<cell line: 2>\u001b[1;34m()\u001b[0m\n\u001b[0;32m      <a href='vscode-notebook-cell:/d%3A/MSP/python_2.ipynb#X21sZmlsZQ%3D%3D?line=0'>1</a>\u001b[0m \u001b[39m# del keyword is used to  delete the list from the memory or a specific index also as pop\u001b[39;00m\n\u001b[1;32m----> <a href='vscode-notebook-cell:/d%3A/MSP/python_2.ipynb#X21sZmlsZQ%3D%3D?line=1'>2</a>\u001b[0m \u001b[39mdel\u001b[39;00m lst[\u001b[39m1\u001b[39m]\n\u001b[0;32m      <a href='vscode-notebook-cell:/d%3A/MSP/python_2.ipynb#X21sZmlsZQ%3D%3D?line=2'>3</a>\u001b[0m \u001b[39mprint\u001b[39m(lst)\n\u001b[0;32m      <a href='vscode-notebook-cell:/d%3A/MSP/python_2.ipynb#X21sZmlsZQ%3D%3D?line=3'>4</a>\u001b[0m \u001b[39mdel\u001b[39;00m lst\n",
      "\u001b[1;31mNameError\u001b[0m: name 'lst' is not defined"
     ]
    }
   ],
   "source": [
    "# del keyword is used to  delete the list from the memory or a specific index also as pop\n",
    "del lst[1]\n",
    "print(lst)\n",
    "del lst"
   ]
  },
  {
   "cell_type": "code",
   "execution_count": 61,
   "metadata": {},
   "outputs": [
    {
     "name": "stdout",
     "output_type": "stream",
     "text": [
      "['p', 'y', 't', 'h', 'o', 'n']\n",
      "<class 'list'>\n"
     ]
    }
   ],
   "source": [
    "str = 'python'\n",
    "# convert string to list\n",
    "lststr = list(str)\n",
    "print(lststr)\n",
    "print(type(lststr))"
   ]
  },
  {
   "cell_type": "code",
   "execution_count": 65,
   "metadata": {},
   "outputs": [
    {
     "name": "stdout",
     "output_type": "stream",
     "text": [
      "['Ahmed', 'Alaa', 'Ali']\n"
     ]
    }
   ],
   "source": [
    "# List Comprehension \n",
    "# newlist = [expression for item in iterable if condition == True]\n",
    "\n",
    "names = [\"Ahmed\", \"Alaa\", \"Mo.\", \"Tamer\", \"Ali\"]\n",
    "\n",
    "# lsta = []\n",
    "# for x in names:\n",
    "#     if x.lower().startswith('a'):\n",
    "#         lsta.append(x)\n",
    "\n",
    "\n",
    "\n",
    "newlist = [x for x in names if x.lower().startswith('a')]\n",
    "\n",
    "print(newlist)"
   ]
  },
  {
   "cell_type": "code",
   "execution_count": 73,
   "metadata": {},
   "outputs": [
    {
     "name": "stdout",
     "output_type": "stream",
     "text": [
      "[2, 5.6, '123']\n",
      "[2, 5.6, '123']\n",
      "[1.2, 2, 3, 5]\n"
     ]
    }
   ],
   "source": [
    "# append() method\n",
    "lst = [2, 5.6]\n",
    "# lst2 = [6, 7, 8]\n",
    "lst.append('123')\n",
    "# lst.extend(lst2)\n",
    "print(lst)\n",
    "\n",
    "# Copy() method\n",
    "lstcopy = lst.copy()\n",
    "print(lstcopy)\n",
    "\n",
    "# sort() method\n",
    "list = [2, 5, 3, 1.2]\n",
    "list.sort()\n",
    "print(list)\n",
    "\n",
    "\n",
    "# NOTE there are many method on list you must know it, \n",
    "# please visit the next wed page\n",
    "# List Methods:\n",
    "# https://www.w3schools.com/python/python_lists_methods.asp"
   ]
  },
  {
   "cell_type": "markdown",
   "metadata": {},
   "source": [
    "### Tuples"
   ]
  },
  {
   "cell_type": "code",
   "execution_count": 74,
   "metadata": {},
   "outputs": [
    {
     "name": "stdout",
     "output_type": "stream",
     "text": [
      "('python', 4, 'JS', 'c++')\n"
     ]
    }
   ],
   "source": [
    "tupl = (\"python\", \"php\", \"JS\", 'c++')\n",
    "print(tupl)"
   ]
  },
  {
   "cell_type": "code",
   "execution_count": 75,
   "metadata": {},
   "outputs": [
    {
     "ename": "TypeError",
     "evalue": "'tuple' object doesn't support item deletion",
     "output_type": "error",
     "traceback": [
      "\u001b[1;31m---------------------------------------------------------------------------\u001b[0m",
      "\u001b[1;31mTypeError\u001b[0m                                 Traceback (most recent call last)",
      "\u001b[1;32md:\\MSP\\python_2.ipynb Cell 22\u001b[0m in \u001b[0;36m<cell line: 4>\u001b[1;34m()\u001b[0m\n\u001b[0;32m      <a href='vscode-notebook-cell:/d%3A/MSP/python_2.ipynb#X30sZmlsZQ%3D%3D?line=0'>1</a>\u001b[0m \u001b[39m# tuple unchangable that mean that you can't add new items to it, \u001b[39;00m\n\u001b[0;32m      <a href='vscode-notebook-cell:/d%3A/MSP/python_2.ipynb#X30sZmlsZQ%3D%3D?line=1'>2</a>\u001b[0m \u001b[39m# can't change its items' values, and can't delete from.\u001b[39;00m\n\u001b[1;32m----> <a href='vscode-notebook-cell:/d%3A/MSP/python_2.ipynb#X30sZmlsZQ%3D%3D?line=3'>4</a>\u001b[0m \u001b[39mdel\u001b[39;00m tupl[\u001b[39m0\u001b[39m]\n",
      "\u001b[1;31mTypeError\u001b[0m: 'tuple' object doesn't support item deletion"
     ]
    }
   ],
   "source": [
    "# tuple unchangable that mean that you can't add new items to it, \n",
    "# can't change its items' values, and can't delete from.\n",
    "\n",
    "del tupl[0]"
   ]
  },
  {
   "cell_type": "code",
   "execution_count": 79,
   "metadata": {},
   "outputs": [
    {
     "name": "stdout",
     "output_type": "stream",
     "text": [
      "<class 'tuple'>\n",
      "<class 'tuple'>\n",
      "1\n",
      "2\n",
      "5\n"
     ]
    }
   ],
   "source": [
    "# tupl = we, = tup = (we,) =>put comma if there only one element.\n",
    "tupl = 'python',\n",
    "print(type(tupl))\n",
    "tupl = ('python',)\n",
    "print(type(tupl))\n",
    "\n",
    "\n",
    "# len(tup) => return the length of the tuple.\n",
    "print(len(tupl))\n",
    "\n",
    "\n",
    "# count() method\n",
    "tupl = (1, 3, 7, 8, 7, 5, 4, 6, 8, 5)\n",
    "x = tupl.count(5)\n",
    "print(x)\n",
    "\n",
    "\n",
    "# index(method)\n",
    "tupl = (1, 3, 7, 8, 7, 5, 4, 6, 8, 5)\n",
    "x = tupl.index(5)\n",
    "print(x)\n",
    "\n",
    "\n"
   ]
  },
  {
   "cell_type": "code",
   "execution_count": 82,
   "metadata": {},
   "outputs": [
    {
     "name": "stdout",
     "output_type": "stream",
     "text": [
      "py php c# js r\n"
     ]
    }
   ],
   "source": [
    "\n",
    "# a = ('a', 'b', 'c'); x, y, z = a => that mean that x = a, y = b, z = c.\n",
    "# a = ('a', 'b', 4, 'c'); x, y, _, z = a =>that mean that it will ignor the num that assigned at _.\n",
    "# Unpacking a Tuple\n",
    "pl = ('py', 'php', 'c#', 'js', 'r')\n",
    "\n",
    "a, b, c, d, e = pl\n",
    "print(a, b, c, d, e)"
   ]
  },
  {
   "cell_type": "code",
   "execution_count": 83,
   "metadata": {},
   "outputs": [
    {
     "name": "stdout",
     "output_type": "stream",
     "text": [
      "py php js r\n"
     ]
    }
   ],
   "source": [
    "# a = ('a', 'b', 'c'); x, y, z = a => that mean that x = a, y = b, z = c.\n",
    "# a = ('a', 'b', 4, 'c'); x, y, _, z = a =>that mean that it will ignor the num that assigned at _.\n",
    "\n",
    "pl = ('py', 'php', 'c#', 'js', 'r')\n",
    "\n",
    "a, b, _, d, e = pl\n",
    "print(a, b, d, e)"
   ]
  },
  {
   "cell_type": "code",
   "execution_count": 84,
   "metadata": {},
   "outputs": [
    {
     "name": "stdout",
     "output_type": "stream",
     "text": [
      "py php ['c#', 'js', 'r']\n"
     ]
    }
   ],
   "source": [
    "# Using Asterisk*\n",
    "pl = ('py', 'php', 'c#', 'js', 'r')\n",
    "\n",
    "a, b, *c = pl\n",
    "print(a, b, c)"
   ]
  },
  {
   "cell_type": "markdown",
   "metadata": {},
   "source": [
    "### Sets"
   ]
  },
  {
   "cell_type": "code",
   "execution_count": 91,
   "metadata": {},
   "outputs": [
    {
     "name": "stdout",
     "output_type": "stream",
     "text": [
      "{'py', 'js', 'php'}\n"
     ]
    }
   ],
   "source": [
    "pl = {'py', 'php', 'js'}\n",
    "print(pl)"
   ]
  },
  {
   "cell_type": "code",
   "execution_count": 92,
   "metadata": {},
   "outputs": [
    {
     "name": "stdout",
     "output_type": "stream",
     "text": [
      "{'py', 'js', 2, 'php'}\n"
     ]
    }
   ],
   "source": [
    "# set unchangable that mean that you can't change items' values, \n",
    "# but you can add its items, and can delete from.\n",
    "pl.add(2)\n",
    "print(pl)"
   ]
  },
  {
   "cell_type": "code",
   "execution_count": 99,
   "metadata": {},
   "outputs": [
    {
     "ename": "KeyError",
     "evalue": "'php'",
     "output_type": "error",
     "traceback": [
      "\u001b[1;31m---------------------------------------------------------------------------\u001b[0m",
      "\u001b[1;31mKeyError\u001b[0m                                  Traceback (most recent call last)",
      "\u001b[1;32md:\\MSP\\python_2.ipynb Cell 30\u001b[0m in \u001b[0;36m<cell line: 2>\u001b[1;34m()\u001b[0m\n\u001b[0;32m      <a href='vscode-notebook-cell:/d%3A/MSP/python_2.ipynb#X41sZmlsZQ%3D%3D?line=0'>1</a>\u001b[0m \u001b[39m# delete an item\u001b[39;00m\n\u001b[1;32m----> <a href='vscode-notebook-cell:/d%3A/MSP/python_2.ipynb#X41sZmlsZQ%3D%3D?line=1'>2</a>\u001b[0m pl\u001b[39m.\u001b[39;49mremove(\u001b[39m'\u001b[39;49m\u001b[39mphp\u001b[39;49m\u001b[39m'\u001b[39;49m)\n\u001b[0;32m      <a href='vscode-notebook-cell:/d%3A/MSP/python_2.ipynb#X41sZmlsZQ%3D%3D?line=2'>3</a>\u001b[0m \u001b[39mprint\u001b[39m(pl)\n",
      "\u001b[1;31mKeyError\u001b[0m: 'php'"
     ]
    }
   ],
   "source": [
    "# delete an item\n",
    "pl.remove('php')\n",
    "print(pl)"
   ]
  },
  {
   "cell_type": "code",
   "execution_count": 94,
   "metadata": {},
   "outputs": [
    {
     "name": "stdout",
     "output_type": "stream",
     "text": [
      "{'py', 'js', 2}\n",
      "{'py', 'js', 2, 'php'}\n",
      "{'py', 'js', 2}\n",
      "{'php'}\n"
     ]
    }
   ],
   "source": [
    "# set Methods\n",
    "# cop() method\n",
    "plCopy = pl.copy()\n",
    "print(plCopy)\n",
    "\n",
    "\n",
    "# difference() method\n",
    "# plCopy.add('c++')\n",
    "pl.add('php')\n",
    "print(pl)\n",
    "print(plCopy)\n",
    "newset = pl.difference(plCopy)\n",
    "print(newset)\n",
    "\n",
    "\n",
    "# clear() method\n"
   ]
  },
  {
   "cell_type": "code",
   "execution_count": 97,
   "metadata": {},
   "outputs": [
    {
     "name": "stdout",
     "output_type": "stream",
     "text": [
      "{'google', 'microsoft'}\n"
     ]
    }
   ],
   "source": [
    "x = {\"apple\", \"banana\", \"cherry\"}\n",
    "y = {\"google\", \"microsoft\", \"apple\"}\n",
    "\n",
    "y.difference_update(x)\n",
    "\n",
    "print(y)"
   ]
  },
  {
   "cell_type": "code",
   "execution_count": 102,
   "metadata": {},
   "outputs": [
    {
     "name": "stdout",
     "output_type": "stream",
     "text": [
      "{'apple', 'cherry'}\n"
     ]
    }
   ],
   "source": [
    "fruits = {\"apple\", \"banana\", \"cherry\"}\n",
    "\n",
    "fruits.discard(\"banana\")\n",
    "\n",
    "print(fruits)"
   ]
  },
  {
   "cell_type": "code",
   "execution_count": 104,
   "metadata": {},
   "outputs": [],
   "source": [
    "fruits.discard('banana')"
   ]
  },
  {
   "cell_type": "code",
   "execution_count": 105,
   "metadata": {},
   "outputs": [
    {
     "ename": "KeyError",
     "evalue": "'banana'",
     "output_type": "error",
     "traceback": [
      "\u001b[1;31m---------------------------------------------------------------------------\u001b[0m",
      "\u001b[1;31mKeyError\u001b[0m                                  Traceback (most recent call last)",
      "\u001b[1;32md:\\MSP\\python_2.ipynb Cell 35\u001b[0m in \u001b[0;36m<cell line: 1>\u001b[1;34m()\u001b[0m\n\u001b[1;32m----> <a href='vscode-notebook-cell:/d%3A/MSP/python_2.ipynb#X45sZmlsZQ%3D%3D?line=0'>1</a>\u001b[0m fruits\u001b[39m.\u001b[39;49mremove(\u001b[39m\"\u001b[39;49m\u001b[39mbanana\u001b[39;49m\u001b[39m\"\u001b[39;49m)\n\u001b[0;32m      <a href='vscode-notebook-cell:/d%3A/MSP/python_2.ipynb#X45sZmlsZQ%3D%3D?line=2'>3</a>\u001b[0m \u001b[39mprint\u001b[39m(fruits)\n",
      "\u001b[1;31mKeyError\u001b[0m: 'banana'"
     ]
    }
   ],
   "source": [
    "fruits.remove(\"banana\")\n",
    "\n",
    "print(fruits)"
   ]
  },
  {
   "cell_type": "code",
   "execution_count": null,
   "metadata": {},
   "outputs": [],
   "source": [
    "fruits = {\"apple\", \"banana\", \"cherry\"}\n",
    "\n",
    "fruits.pop()\n",
    "\n",
    "print(fruits)"
   ]
  },
  {
   "cell_type": "code",
   "execution_count": 106,
   "metadata": {},
   "outputs": [
    {
     "name": "stdout",
     "output_type": "stream",
     "text": [
      "{'apple', 'banana', 'cherry', 'microsoft', 'google'}\n"
     ]
    }
   ],
   "source": [
    "x = {\"apple\", \"banana\", \"cherry\"}\n",
    "y = {\"google\", \"microsoft\", \"apple\"}\n",
    "\n",
    "x.update(y)\n",
    "\n",
    "print(x)\n",
    "\n",
    "# NOTE\n",
    "# Set Methods\n",
    "# https://www.w3schools.com/python/python_sets_methods.asp"
   ]
  },
  {
   "cell_type": "markdown",
   "metadata": {},
   "source": [
    "### Dictionaries"
   ]
  },
  {
   "cell_type": "code",
   "execution_count": 110,
   "metadata": {},
   "outputs": [
    {
     "name": "stdout",
     "output_type": "stream",
     "text": [
      "{'brand': 'Ford', 'model': 'Mustang', 'year': 1964}\n",
      "<class 'dict'>\n"
     ]
    }
   ],
   "source": [
    "thisdict = {\n",
    "  \"brand\": \"Ford\",\n",
    "  \"model\": \"Mustang\",\n",
    "  \"year\": 1964\n",
    "}\n",
    "print(thisdict)\n",
    "print(type(thisdict))"
   ]
  },
  {
   "cell_type": "code",
   "execution_count": 109,
   "metadata": {},
   "outputs": [
    {
     "name": "stdout",
     "output_type": "stream",
     "text": [
      "Ford\n"
     ]
    }
   ],
   "source": [
    "# we access items by key\n",
    "print(thisdict['brand'])"
   ]
  },
  {
   "cell_type": "code",
   "execution_count": 111,
   "metadata": {},
   "outputs": [
    {
     "name": "stdout",
     "output_type": "stream",
     "text": [
      "{'brand': 'Ford', 'model': 'Mustang', 'year': 1964, 'color': 'red'}\n"
     ]
    }
   ],
   "source": [
    "# add new item\n",
    "\n",
    "thisdict[\"color\"] = \"red\"\n",
    "print(thisdict)"
   ]
  },
  {
   "cell_type": "code",
   "execution_count": 112,
   "metadata": {},
   "outputs": [
    {
     "name": "stdout",
     "output_type": "stream",
     "text": [
      "{'brand': 'Ford', 'year': 1964, 'color': 'red'}\n"
     ]
    }
   ],
   "source": [
    "# remove items from dictioary\n",
    "thisdict.pop(\"model\")\n",
    "print(thisdict)"
   ]
  },
  {
   "cell_type": "code",
   "execution_count": 115,
   "metadata": {},
   "outputs": [
    {
     "name": "stdout",
     "output_type": "stream",
     "text": [
      "{}\n"
     ]
    }
   ],
   "source": [
    "# popitem() method removes the last inserted item\n",
    "\n",
    "thisdict.popitem()\n",
    "print(thisdict)"
   ]
  },
  {
   "cell_type": "code",
   "execution_count": 116,
   "metadata": {},
   "outputs": [
    {
     "name": "stdout",
     "output_type": "stream",
     "text": [
      "{'brand': 'Ford', 'year': 1964}\n"
     ]
    }
   ],
   "source": [
    "# use del keyword in deletion\n",
    "\n",
    "thisdict = {\n",
    "  \"brand\": \"Ford\",\n",
    "  \"model\": \"Mustang\",\n",
    "  \"year\": 1964\n",
    "}\n",
    "del thisdict[\"model\"]\n",
    "print(thisdict)"
   ]
  },
  {
   "cell_type": "code",
   "execution_count": 117,
   "metadata": {},
   "outputs": [
    {
     "name": "stdout",
     "output_type": "stream",
     "text": [
      "{}\n"
     ]
    }
   ],
   "source": [
    "# clear the dictionary from items\n",
    "thisdict.clear()\n",
    "print(thisdict)\n",
    "# del thisdict"
   ]
  },
  {
   "cell_type": "code",
   "execution_count": 118,
   "metadata": {},
   "outputs": [
    {
     "name": "stdout",
     "output_type": "stream",
     "text": [
      "{'child1': {'name': 'Emil', 'year': 2004}, 'child2': {'name': 'Tobias', 'year': 2007}, 'child3': {'name': 'Linus', 'year': 2011}}\n"
     ]
    }
   ],
   "source": [
    "# nested dictionary\n",
    "myfamily = {\n",
    "  \"child1\" : {\n",
    "    \"name\" : \"Emil\",\n",
    "    \"year\" : 2004\n",
    "  },\n",
    "  \"child2\" : {\n",
    "    \"name\" : \"Tobias\",\n",
    "    \"year\" : 2007\n",
    "  },\n",
    "  \"child3\" : {\n",
    "    \"name\" : \"Linus\",\n",
    "    \"year\" : 2011\n",
    "  }\n",
    "}\n",
    "print(myfamily)"
   ]
  },
  {
   "cell_type": "code",
   "execution_count": 119,
   "metadata": {},
   "outputs": [
    {
     "name": "stdout",
     "output_type": "stream",
     "text": [
      "{'brand': 'Ford', 'model': 'Mustang', 'year': 1964}\n"
     ]
    }
   ],
   "source": [
    "# tack a copy of dict\n",
    "\n",
    "car = {\n",
    "  \"brand\": \"Ford\",\n",
    "  \"model\": \"Mustang\",\n",
    "  \"year\": 1964\n",
    "}\n",
    "\n",
    "x = car.copy()\n",
    "\n",
    "print(x)"
   ]
  },
  {
   "cell_type": "code",
   "execution_count": 123,
   "metadata": {},
   "outputs": [
    {
     "name": "stdout",
     "output_type": "stream",
     "text": [
      "{'key1': 1, 'key2': 1, 'key3': 1}\n"
     ]
    }
   ],
   "source": [
    "# fromkeys() method returns a dictionary with the specified keys and the specified value.\n",
    "\n",
    "x = ('key1', 'key2', 'key3')\n",
    "y = 1\n",
    "\n",
    "thisdict = dict.fromkeys(x, y)\n",
    "\n",
    "print(thisdict)"
   ]
  },
  {
   "cell_type": "code",
   "execution_count": 124,
   "metadata": {},
   "outputs": [
    {
     "name": "stdout",
     "output_type": "stream",
     "text": [
      "Mustang\n"
     ]
    }
   ],
   "source": [
    "# get the value of a specified key\n",
    "x = car.get(\"model\")\n",
    "\n",
    "print(x)"
   ]
  },
  {
   "cell_type": "code",
   "execution_count": 127,
   "metadata": {},
   "outputs": [
    {
     "name": "stdout",
     "output_type": "stream",
     "text": [
      "dict_keys(['brand', 'model', 'year'])\n",
      "dict_values(['Ford', 'Mustang', 1964])\n"
     ]
    }
   ],
   "source": [
    "# return the values and keys of the dictionary\n",
    "print(car.keys())\n",
    "print(car.values())\n",
    "\n",
    "# dictionay methods:\n",
    "# https://www.w3schools.com/python/python_dictionaries_methods.asp"
   ]
  },
  {
   "cell_type": "markdown",
   "metadata": {},
   "source": [
    "### Classes & Objects"
   ]
  },
  {
   "cell_type": "code",
   "execution_count": 128,
   "metadata": {},
   "outputs": [
    {
     "name": "stdout",
     "output_type": "stream",
     "text": [
      "5\n"
     ]
    }
   ],
   "source": [
    "# create a class \n",
    "class MyClass:\n",
    "  x = 5\n",
    "\n",
    "\n",
    "\n",
    "# create an object\n",
    "myObj = MyClass()\n",
    "print(myObj.x)"
   ]
  },
  {
   "cell_type": "code",
   "execution_count": 130,
   "metadata": {},
   "outputs": [
    {
     "name": "stdout",
     "output_type": "stream",
     "text": [
      "John\n",
      "36\n"
     ]
    }
   ],
   "source": [
    "# Create a class with the __init__() method\n",
    "\n",
    "class Person:\n",
    "  def __init__(self, name, age):\n",
    "    self.name = name\n",
    "    self.age = age\n",
    "\n",
    "p1 = Person(\"John\", 36)\n",
    "\n",
    "print(p1.name)\n",
    "print(p1.age)"
   ]
  },
  {
   "cell_type": "code",
   "execution_count": 131,
   "metadata": {},
   "outputs": [
    {
     "name": "stdout",
     "output_type": "stream",
     "text": [
      "40\n"
     ]
    }
   ],
   "source": [
    "# modify the properties values\n",
    "p1.age = 40\n",
    "print(p1.age)"
   ]
  },
  {
   "cell_type": "code",
   "execution_count": 132,
   "metadata": {},
   "outputs": [
    {
     "ename": "AttributeError",
     "evalue": "'Person' object has no attribute 'age'",
     "output_type": "error",
     "traceback": [
      "\u001b[1;31m---------------------------------------------------------------------------\u001b[0m",
      "\u001b[1;31mAttributeError\u001b[0m                            Traceback (most recent call last)",
      "\u001b[1;32md:\\MSP\\python_2.ipynb Cell 55\u001b[0m in \u001b[0;36m<cell line: 3>\u001b[1;34m()\u001b[0m\n\u001b[0;32m      <a href='vscode-notebook-cell:/d%3A/MSP/python_2.ipynb#Y106sZmlsZQ%3D%3D?line=0'>1</a>\u001b[0m \u001b[39m# delete object properties\u001b[39;00m\n\u001b[0;32m      <a href='vscode-notebook-cell:/d%3A/MSP/python_2.ipynb#Y106sZmlsZQ%3D%3D?line=1'>2</a>\u001b[0m \u001b[39mdel\u001b[39;00m p1\u001b[39m.\u001b[39mage\n\u001b[1;32m----> <a href='vscode-notebook-cell:/d%3A/MSP/python_2.ipynb#Y106sZmlsZQ%3D%3D?line=2'>3</a>\u001b[0m \u001b[39mprint\u001b[39m(p1\u001b[39m.\u001b[39;49mage)\n",
      "\u001b[1;31mAttributeError\u001b[0m: 'Person' object has no attribute 'age'"
     ]
    }
   ],
   "source": [
    "# delete object properties\n",
    "del p1.age\n",
    "print(p1.age)"
   ]
  },
  {
   "cell_type": "code",
   "execution_count": 133,
   "metadata": {},
   "outputs": [],
   "source": [
    "# Delete Objects\n",
    "del p1"
   ]
  },
  {
   "cell_type": "markdown",
   "metadata": {},
   "source": [
    "# THANKS"
   ]
  }
 ],
 "metadata": {
  "kernelspec": {
   "display_name": "Python 3.10.8 64-bit (microsoft store)",
   "language": "python",
   "name": "python3"
  },
  "language_info": {
   "codemirror_mode": {
    "name": "ipython",
    "version": 3
   },
   "file_extension": ".py",
   "mimetype": "text/x-python",
   "name": "python",
   "nbconvert_exporter": "python",
   "pygments_lexer": "ipython3",
   "version": "3.10.8"
  },
  "orig_nbformat": 4,
  "vscode": {
   "interpreter": {
    "hash": "e2c4c84b7cbfc1f2f53a68dcfadacf80dd1138793774f9f90876db06a367aefd"
   }
  }
 },
 "nbformat": 4,
 "nbformat_minor": 2
}
